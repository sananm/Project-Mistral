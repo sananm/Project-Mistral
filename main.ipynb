{
 "cells": [
  {
   "cell_type": "code",
   "execution_count": null,
   "metadata": {},
   "outputs": [],
   "source": [
    "from llama_cpp import Llama\n",
    "llm = Llama(\n",
    "      model_path=\"C:/Users/Anish/.lmstudio/models/lmstudio-community/Mistral-7B-Instruct-v0.3-GGUF/Mistral-7B-Instruct-v0.3-Q4_K_M.gguf\",\n",
    "      chat_format=\"llama-2\",\n",
    "      n_gpu_layers=-1,\n",
    "      seed=1337,\n",
    "      n_ctx=2048,\n",
    "      max_tokens=None,\n",
    "      echo=False\n",
    ")\n",
    "\n",
    "output = llm.create_chat_completion(\n",
    "      messages = [\n",
    "          {\"role\": \"system\", \"content\": \"You are an experienced mathematician\"},\n",
    "          {\n",
    "              \"role\": \"user\",\n",
    "              \"content\": \"Can you list all the trigonometric equations.\"\n",
    "          }\n",
    "      ],\n",
    ")\n",
    "\n",
    "\n",
    "\n",
    "\n",
    "\n"
   ]
  },
  {
   "cell_type": "code",
   "execution_count": null,
   "metadata": {},
   "outputs": [],
   "source": [
    "Response =  output['choices'][0]['message']['content']"
   ]
  },
  {
   "cell_type": "code",
   "execution_count": 18,
   "metadata": {},
   "outputs": [],
   "source": [
    "with open(\"response.md\", \"w\") as f:\n",
    "    f.write(Response)\n",
    "\n"
   ]
  },
  {
   "cell_type": "code",
   "execution_count": 19,
   "metadata": {},
   "outputs": [
    {
     "name": "stderr",
     "output_type": "stream",
     "text": [
      "Llama.generate: 9 prefix-match hit, remaining 957 prompt tokens to eval\n",
      "llama_perf_context_print:        load time =    1304.70 ms\n",
      "llama_perf_context_print: prompt eval time =   26914.23 ms /   957 tokens (   28.12 ms per token,    35.56 tokens per second)\n",
      "llama_perf_context_print:        eval time =    7704.35 ms /    71 runs   (  108.51 ms per token,     9.22 tokens per second)\n",
      "llama_perf_context_print:       total time =   34642.77 ms /  1028 tokens\n"
     ]
    }
   ],
   "source": [
    "output = llm.create_chat_completion(\n",
    "      messages = [\n",
    "          {\"role\": \"system\", \"content\": \"You are suppose to analyze the context of the text you are given in 20 words or less.\"},\n",
    "          {\n",
    "              \"role\": \"user\",\n",
    "              \"content\": Response\n",
    "          }\n",
    "      ],\n",
    ")"
   ]
  },
  {
   "cell_type": "code",
   "execution_count": 20,
   "metadata": {},
   "outputs": [
    {
     "data": {
      "text/plain": [
       "' The text provides a comprehensive list of trigonometric equations, including Pythagorean identities, angle sum and difference formulas, half-angle formulas, inverse trigonometric functions, the law of sines and cosines, trigonometric ratios, reciprocal identities, and even and odd function properties.'"
      ]
     },
     "execution_count": 20,
     "metadata": {},
     "output_type": "execute_result"
    }
   ],
   "source": [
    "context =  output['choices'][0]['message']['content']\n",
    "context"
   ]
  },
  {
   "cell_type": "code",
   "execution_count": null,
   "metadata": {},
   "outputs": [],
   "source": [
    "with open(\"context.md\", \"w\") as f:\n",
    "    f.write(context)\n",
    "    "
   ]
  }
 ],
 "metadata": {
  "kernelspec": {
   "display_name": ".venv",
   "language": "python",
   "name": "python3"
  },
  "language_info": {
   "codemirror_mode": {
    "name": "ipython",
    "version": 3
   },
   "file_extension": ".py",
   "mimetype": "text/x-python",
   "name": "python",
   "nbconvert_exporter": "python",
   "pygments_lexer": "ipython3",
   "version": "3.12.6"
  }
 },
 "nbformat": 4,
 "nbformat_minor": 2
}
