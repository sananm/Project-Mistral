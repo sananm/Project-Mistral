{
 "cells": [
  {
   "cell_type": "code",
   "execution_count": null,
   "metadata": {},
   "outputs": [],
   "source": [
    "from llama_cpp import Llama\n",
    "llm = Llama(\n",
    "      model_path=\"C:/Users/Anish/.lmstudio/models/lmstudio-community/Mistral-7B-Instruct-v0.3-GGUF/Mistral-7B-Instruct-v0.3-Q4_K_M.gguf\",\n",
    "      chat_format=\"llama-2\",\n",
    "      n_gpu_layers=-1,\n",
    "      seed=1337,\n",
    "      n_ctx=2048,\n",
    "      max_tokens=None,\n",
    "      echo=False\n",
    ")\n",
    "\n",
    "output = llm.create_chat_completion(\n",
    "      messages = [\n",
    "          {\"role\": \"system\", \"content\": \"You are an experienced mathematician\"},\n",
    "          {\n",
    "              \"role\": \"user\",\n",
    "              \"content\": \"Can you list all the trigonometric equations.\"\n",
    "          }\n",
    "      ],\n",
    ")\n",
    "\n",
    "\n",
    "\n",
    "\n",
    "\n"
   ]
  },
  {
   "cell_type": "code",
   "execution_count": null,
   "metadata": {},
   "outputs": [],
   "source": [
    "Response =  output['choices'][0]['message']['content']"
   ]
  },
  {
   "cell_type": "code",
   "execution_count": 18,
   "metadata": {},
   "outputs": [],
   "source": [
    "with open(\"response.md\", \"w\") as f:\n",
    "    f.write(Response)\n",
    "\n"
   ]
  },
  {
   "cell_type": "code",
   "execution_count": null,
   "metadata": {},
   "outputs": [],
   "source": [
    "output = llm.create_chat_completion(\n",
    "      messages = [\n",
    "          {\"role\": \"system\", \"content\": \"You are suppose to analyze  \"},\n",
    "          {\n",
    "              \"role\": \"user\",\n",
    "              \"content\": \"Can you list all the trigonometric equations.\"\n",
    "          }\n",
    "      ],\n",
    ")"
   ]
  }
 ],
 "metadata": {
  "kernelspec": {
   "display_name": ".venv",
   "language": "python",
   "name": "python3"
  },
  "language_info": {
   "codemirror_mode": {
    "name": "ipython",
    "version": 3
   },
   "file_extension": ".py",
   "mimetype": "text/x-python",
   "name": "python",
   "nbconvert_exporter": "python",
   "pygments_lexer": "ipython3",
   "version": "3.12.6"
  }
 },
 "nbformat": 4,
 "nbformat_minor": 2
}
